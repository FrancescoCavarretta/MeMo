{
 "cells": [
  {
   "cell_type": "markdown",
   "id": "0eb76098",
   "metadata": {},
   "source": [
    "# Sensitivity analysis for synaptic input parameters"
   ]
  },
  {
   "cell_type": "code",
   "execution_count": 113,
   "id": "291a7e41",
   "metadata": {},
   "outputs": [],
   "source": [
    "import pandas as pd\n",
    "import numpy as np\n",
    "import matplotlib.pyplot as plt\n",
    "import seaborn as sns\n",
    "import sim.nwbio as nwbio\n",
    "\n",
    "import key_parser as ks\n",
    "import preprocessing"
   ]
  },
  {
   "cell_type": "code",
   "execution_count": 115,
   "id": "6abfeb92",
   "metadata": {},
   "outputs": [],
   "source": [
    "# get the table\n",
    "tab = ks.analyze_key([ nwbio.FileReader('baseline_firing_rate_0.nwb'),\n",
    "                     nwbio.FileReader('baseline_firing_rate_bis_0.nwb')] )"
   ]
  },
  {
   "cell_type": "code",
   "execution_count": 116,
   "id": "58568e49",
   "metadata": {},
   "outputs": [
    {
     "data": {
      "text/html": [
       "<div>\n",
       "<style scoped>\n",
       "    .dataframe tbody tr th:only-of-type {\n",
       "        vertical-align: middle;\n",
       "    }\n",
       "\n",
       "    .dataframe tbody tr th {\n",
       "        vertical-align: top;\n",
       "    }\n",
       "\n",
       "    .dataframe thead th {\n",
       "        text-align: right;\n",
       "    }\n",
       "</style>\n",
       "<table border=\"1\" class=\"dataframe\">\n",
       "  <thead>\n",
       "    <tr style=\"text-align: right;\">\n",
       "      <th></th>\n",
       "      <th>state</th>\n",
       "      <th>cellid</th>\n",
       "      <th>seed</th>\n",
       "      <th>g_mod</th>\n",
       "      <th>section_name</th>\n",
       "      <th>section_index</th>\n",
       "      <th>section_arc</th>\n",
       "      <th>var_type</th>\n",
       "      <th>file_object</th>\n",
       "      <th>key</th>\n",
       "    </tr>\n",
       "  </thead>\n",
       "  <tbody>\n",
       "    <tr>\n",
       "      <th>0</th>\n",
       "      <td>normal</td>\n",
       "      <td>1.0</td>\n",
       "      <td>0.0</td>\n",
       "      <td>0.00050</td>\n",
       "      <td>somatic</td>\n",
       "      <td>0</td>\n",
       "      <td>0.5</td>\n",
       "      <td>v</td>\n",
       "      <td>&lt;sim.nwbio.FileReader object at 0x7fc88fea8a00&gt;</td>\n",
       "      <td>output-cellid=1-seed=0-tstop=15s-g_mod=0.0005....</td>\n",
       "    </tr>\n",
       "    <tr>\n",
       "      <th>1</th>\n",
       "      <td>normal</td>\n",
       "      <td>1.0</td>\n",
       "      <td>0.0</td>\n",
       "      <td>0.00075</td>\n",
       "      <td>somatic</td>\n",
       "      <td>0</td>\n",
       "      <td>0.5</td>\n",
       "      <td>v</td>\n",
       "      <td>&lt;sim.nwbio.FileReader object at 0x7fc88fea8a00&gt;</td>\n",
       "      <td>output-cellid=1-seed=0-tstop=15s-g_mod=0.00075...</td>\n",
       "    </tr>\n",
       "    <tr>\n",
       "      <th>2</th>\n",
       "      <td>normal</td>\n",
       "      <td>1.0</td>\n",
       "      <td>0.0</td>\n",
       "      <td>0.00100</td>\n",
       "      <td>somatic</td>\n",
       "      <td>0</td>\n",
       "      <td>0.5</td>\n",
       "      <td>v</td>\n",
       "      <td>&lt;sim.nwbio.FileReader object at 0x7fc88fea8a00&gt;</td>\n",
       "      <td>output-cellid=1-seed=0-tstop=15s-g_mod=0.001.s...</td>\n",
       "    </tr>\n",
       "    <tr>\n",
       "      <th>3</th>\n",
       "      <td>normal</td>\n",
       "      <td>1.0</td>\n",
       "      <td>0.0</td>\n",
       "      <td>0.00125</td>\n",
       "      <td>somatic</td>\n",
       "      <td>0</td>\n",
       "      <td>0.5</td>\n",
       "      <td>v</td>\n",
       "      <td>&lt;sim.nwbio.FileReader object at 0x7fc88fea8a00&gt;</td>\n",
       "      <td>output-cellid=1-seed=0-tstop=15s-g_mod=0.00125...</td>\n",
       "    </tr>\n",
       "    <tr>\n",
       "      <th>4</th>\n",
       "      <td>normal</td>\n",
       "      <td>10.0</td>\n",
       "      <td>0.0</td>\n",
       "      <td>0.00050</td>\n",
       "      <td>somatic</td>\n",
       "      <td>0</td>\n",
       "      <td>0.5</td>\n",
       "      <td>v</td>\n",
       "      <td>&lt;sim.nwbio.FileReader object at 0x7fc88fea8a00&gt;</td>\n",
       "      <td>output-cellid=10-seed=0-tstop=15s-g_mod=0.0005...</td>\n",
       "    </tr>\n",
       "  </tbody>\n",
       "</table>\n",
       "</div>"
      ],
      "text/plain": [
       "    state  cellid  seed    g_mod section_name  section_index  section_arc  \\\n",
       "0  normal     1.0   0.0  0.00050      somatic              0          0.5   \n",
       "1  normal     1.0   0.0  0.00075      somatic              0          0.5   \n",
       "2  normal     1.0   0.0  0.00100      somatic              0          0.5   \n",
       "3  normal     1.0   0.0  0.00125      somatic              0          0.5   \n",
       "4  normal    10.0   0.0  0.00050      somatic              0          0.5   \n",
       "\n",
       "  var_type                                      file_object  \\\n",
       "0        v  <sim.nwbio.FileReader object at 0x7fc88fea8a00>   \n",
       "1        v  <sim.nwbio.FileReader object at 0x7fc88fea8a00>   \n",
       "2        v  <sim.nwbio.FileReader object at 0x7fc88fea8a00>   \n",
       "3        v  <sim.nwbio.FileReader object at 0x7fc88fea8a00>   \n",
       "4        v  <sim.nwbio.FileReader object at 0x7fc88fea8a00>   \n",
       "\n",
       "                                                 key  \n",
       "0  output-cellid=1-seed=0-tstop=15s-g_mod=0.0005....  \n",
       "1  output-cellid=1-seed=0-tstop=15s-g_mod=0.00075...  \n",
       "2  output-cellid=1-seed=0-tstop=15s-g_mod=0.001.s...  \n",
       "3  output-cellid=1-seed=0-tstop=15s-g_mod=0.00125...  \n",
       "4  output-cellid=10-seed=0-tstop=15s-g_mod=0.0005...  "
      ]
     },
     "execution_count": 116,
     "metadata": {},
     "output_type": "execute_result"
    }
   ],
   "source": [
    "tab.head()"
   ]
  },
  {
   "cell_type": "code",
   "execution_count": 117,
   "id": "0e1d5cd4",
   "metadata": {},
   "outputs": [],
   "source": [
    "# these columns do not matter for our analysis\n",
    "tab.drop(['cellid', 'seed', 'section_name', 'section_index', 'section_arc', 'var_type'], axis=1, inplace=True)"
   ]
  },
  {
   "cell_type": "code",
   "execution_count": 118,
   "id": "f3aede9c",
   "metadata": {},
   "outputs": [
    {
     "data": {
      "text/plain": [
       "Index(['state', 'g_mod', 'file_object', 'key'], dtype='object')"
      ]
     },
     "execution_count": 118,
     "metadata": {},
     "output_type": "execute_result"
    }
   ],
   "source": [
    "tab.columns"
   ]
  },
  {
   "cell_type": "code",
   "execution_count": 119,
   "id": "7ba2f30d",
   "metadata": {},
   "outputs": [
    {
     "name": "stderr",
     "output_type": "stream",
     "text": [
      "/home/francesco/MeMo/preprocessing.py:69: ComplexWarning: Casting complex values to real discards the imaginary part\n",
      "  v = np.fft.ifft(sig_fft).astype(float)\n",
      "/home/francesco/MeMo/preprocessing.py:69: ComplexWarning: Casting complex values to real discards the imaginary part\n",
      "  v = np.fft.ifft(sig_fft).astype(float)\n"
     ]
    }
   ],
   "source": [
    "# let's add the action potential count and baseline membrane voltage\n",
    "for idx, row in tab.iterrows():\n",
    "    trace = row['file_object'].read(row['key'])\n",
    "    tab.loc[idx, 'firing rate'] = preprocessing.get_spike_count(*trace, tinit=5000.0, threshold=-30) / 10.0\n",
    "    tab.loc[idx, 'baseline v'] = preprocessing.get_baseline_voltage(*trace)\n",
    "    \n",
    "del idx, row, trace # clean"
   ]
  },
  {
   "cell_type": "code",
   "execution_count": 120,
   "id": "8491aa6f",
   "metadata": {},
   "outputs": [
    {
     "name": "stdout",
     "output_type": "stream",
     "text": [
      "<class 'pandas.core.frame.DataFrame'>\n",
      "RangeIndex: 108 entries, 0 to 107\n",
      "Data columns (total 6 columns):\n",
      " #   Column       Non-Null Count  Dtype  \n",
      "---  ------       --------------  -----  \n",
      " 0   state        108 non-null    object \n",
      " 1   g_mod        108 non-null    float64\n",
      " 2   file_object  108 non-null    object \n",
      " 3   key          108 non-null    object \n",
      " 4   firing rate  108 non-null    float64\n",
      " 5   baseline v   108 non-null    float64\n",
      "dtypes: float64(3), object(3)\n",
      "memory usage: 5.2+ KB\n"
     ]
    }
   ],
   "source": [
    "# check data types\n",
    "tab.info()"
   ]
  },
  {
   "cell_type": "code",
   "execution_count": 121,
   "id": "d06ae472",
   "metadata": {},
   "outputs": [],
   "source": [
    "# set the data types\n",
    "for col in tab.columns:\n",
    "    # eliminate excess of decimal digits\n",
    "    if col.startswith('g_') or col.startswith('NmdaAmpaRatio'):\n",
    "        tab[col] = tab[col].apply(lambda x: round(x, 5) if not np.isnan(x) else np.nan)"
   ]
  },
  {
   "cell_type": "code",
   "execution_count": 122,
   "id": "c240aa50",
   "metadata": {},
   "outputs": [],
   "source": [
    "# let's sort the columns\n",
    "tab = tab[['state', 'file_object', 'key', 'firing rate', 'baseline v', 'g_mod']]"
   ]
  },
  {
   "cell_type": "code",
   "execution_count": 125,
   "id": "9aeddbd4",
   "metadata": {
    "scrolled": false
   },
   "outputs": [
    {
     "data": {
      "image/png": "[encoded data removed]",
      "text/plain": [
       "<Figure size 1296x270 with 2 Axes>"
      ]
     },
     "metadata": {
      "needs_background": "light"
     },
     "output_type": "display_data"
    }
   ],
   "source": [
    "# rows \n",
    "nrow = tab.shape[1] - 5\n",
    "\n",
    "# figure size\n",
    "fig = plt.figure(figsize=(18, 15 / 4.0 * nrow))\n",
    "\n",
    "for i, colx in enumerate(tab.drop(['file_object', 'key', 'state', 'firing rate', 'baseline v'], axis=1).columns):\n",
    "    \n",
    "    # select the parameter column and drop the rows with NaNs\n",
    "    tmp = tab[[colx, 'firing rate', 'baseline v', 'state']].dropna()\n",
    "    \n",
    "    # plot ap count and baseline\n",
    "    for j, coly in enumerate(['firing rate', 'baseline v']):\n",
    "        plt.subplot(nrow, 4, i * 2 + j + 1)\n",
    "        plt.title('%s|%s' % (colx, coly))\n",
    "        sns.boxplot(data=tmp, x=colx, y=coly, hue='state')\n",
    "        plt.ylim([0, 125] if j == 0 else [ -80, -20])\n",
    "\n",
    "# spacing\n",
    "plt.tight_layout(pad=1.5)\n",
    "plt.show()"
   ]
  },
  {
   "cell_type": "code",
   "execution_count": 126,
   "id": "ce869751",
   "metadata": {},
   "outputs": [
    {
     "data": {
      "text/html": [
       "<div>\n",
       "<style scoped>\n",
       "    .dataframe tbody tr th:only-of-type {\n",
       "        vertical-align: middle;\n",
       "    }\n",
       "\n",
       "    .dataframe tbody tr th {\n",
       "        vertical-align: top;\n",
       "    }\n",
       "\n",
       "    .dataframe thead th {\n",
       "        text-align: right;\n",
       "    }\n",
       "</style>\n",
       "<table border=\"1\" class=\"dataframe\">\n",
       "  <thead>\n",
       "    <tr style=\"text-align: right;\">\n",
       "      <th></th>\n",
       "      <th></th>\n",
       "      <th>firing rate</th>\n",
       "    </tr>\n",
       "    <tr>\n",
       "      <th>g_mod</th>\n",
       "      <th>state</th>\n",
       "      <th></th>\n",
       "    </tr>\n",
       "  </thead>\n",
       "  <tbody>\n",
       "    <tr>\n",
       "      <th rowspan=\"2\" valign=\"top\">0.00050</th>\n",
       "      <th>6ohda</th>\n",
       "      <td>17.860000</td>\n",
       "    </tr>\n",
       "    <tr>\n",
       "      <th>normal</th>\n",
       "      <td>9.038462</td>\n",
       "    </tr>\n",
       "    <tr>\n",
       "      <th rowspan=\"2\" valign=\"top\">0.00075</th>\n",
       "      <th>6ohda</th>\n",
       "      <td>27.880000</td>\n",
       "    </tr>\n",
       "    <tr>\n",
       "      <th>normal</th>\n",
       "      <td>13.915385</td>\n",
       "    </tr>\n",
       "    <tr>\n",
       "      <th rowspan=\"2\" valign=\"top\">0.00100</th>\n",
       "      <th>6ohda</th>\n",
       "      <td>38.460000</td>\n",
       "    </tr>\n",
       "    <tr>\n",
       "      <th>normal</th>\n",
       "      <td>17.738462</td>\n",
       "    </tr>\n",
       "    <tr>\n",
       "      <th rowspan=\"2\" valign=\"top\">0.00125</th>\n",
       "      <th>6ohda</th>\n",
       "      <td>47.480000</td>\n",
       "    </tr>\n",
       "    <tr>\n",
       "      <th>normal</th>\n",
       "      <td>20.892308</td>\n",
       "    </tr>\n",
       "    <tr>\n",
       "      <th rowspan=\"2\" valign=\"top\">0.00150</th>\n",
       "      <th>6ohda</th>\n",
       "      <td>55.720000</td>\n",
       "    </tr>\n",
       "    <tr>\n",
       "      <th>normal</th>\n",
       "      <td>23.607692</td>\n",
       "    </tr>\n",
       "    <tr>\n",
       "      <th rowspan=\"2\" valign=\"top\">0.00175</th>\n",
       "      <th>6ohda</th>\n",
       "      <td>63.960000</td>\n",
       "    </tr>\n",
       "    <tr>\n",
       "      <th>normal</th>\n",
       "      <td>25.900000</td>\n",
       "    </tr>\n",
       "  </tbody>\n",
       "</table>\n",
       "</div>"
      ],
      "text/plain": [
       "                firing rate\n",
       "g_mod   state              \n",
       "0.00050 6ohda     17.860000\n",
       "        normal     9.038462\n",
       "0.00075 6ohda     27.880000\n",
       "        normal    13.915385\n",
       "0.00100 6ohda     38.460000\n",
       "        normal    17.738462\n",
       "0.00125 6ohda     47.480000\n",
       "        normal    20.892308\n",
       "0.00150 6ohda     55.720000\n",
       "        normal    23.607692\n",
       "0.00175 6ohda     63.960000\n",
       "        normal    25.900000"
      ]
     },
     "execution_count": 126,
     "metadata": {},
     "output_type": "execute_result"
    }
   ],
   "source": [
    "tab.groupby(['g_mod', 'state'])[['firing rate']].mean()"
   ]
  }
 ],
 "metadata": {
  "kernelspec": {
   "display_name": "Python 3 (ipykernel)",
   "language": "python",
   "name": "python3"
  },
  "language_info": {
   "codemirror_mode": {
    "name": "ipython",
    "version": 3
   },
   "file_extension": ".py",
   "mimetype": "text/x-python",
   "name": "python",
   "nbconvert_exporter": "python",
   "pygments_lexer": "ipython3",
   "version": "3.9.12"
  }
 },
 "nbformat": 4,
 "nbformat_minor": 5
}
